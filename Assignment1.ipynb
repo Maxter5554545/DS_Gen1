{
 "cells": [
  {
   "cell_type": "code",
   "execution_count": 2,
   "id": "7d699b55-d076-4a92-9363-1f32431b1900",
   "metadata": {},
   "outputs": [
    {
     "name": "stdout",
     "output_type": "stream",
     "text": [
      "2\n",
      "2.0\n"
     ]
    }
   ],
   "source": [
    "#1. Covert an integer to a floating-point number.\n",
    "num = 2 #setting a variable of an integer value\n",
    "\n",
    "print(num)\n",
    "\n",
    "#Converting the integer into the floating point number and assigning the variable as tofloat\n",
    "\n",
    "tofloat = float(num)\n",
    "print(tofloat)"
   ]
  },
  {
   "cell_type": "code",
   "execution_count": 3,
   "id": "0e9148a3-5e84-404c-b9ea-2ce9d4fdce82",
   "metadata": {},
   "outputs": [
    {
     "name": "stdout",
     "output_type": "stream",
     "text": [
      "2\n"
     ]
    }
   ],
   "source": [
    "#2. Convert a float to an integer.\n",
    "\n",
    "#Assigning a variable of floating point value\n",
    "flt = 2.23\n",
    "\n",
    "#converting the float into the integer\n",
    "toint = int(2.23)\n",
    "\n",
    "print(toint)"
   ]
  },
  {
   "cell_type": "code",
   "execution_count": 5,
   "id": "ea9bed7a-6d16-4d76-9887-2a2e261738d8",
   "metadata": {},
   "outputs": [
    {
     "name": "stdout",
     "output_type": "stream",
     "text": [
      "The integer has been converted to the string: 2024\n"
     ]
    }
   ],
   "source": [
    "# 3 Convert an integer to a string.\n",
    "\n",
    "inte = 2024\n",
    "#Now converting the integer into the string\n",
    "\n",
    "tostr = str(inte)\n",
    "\n",
    "print(f\"The integer has been converted to the string: {inte}\")\n"
   ]
  },
  {
   "cell_type": "code",
   "execution_count": 6,
   "id": "a052177a-722f-459f-aeb1-957146a903bb",
   "metadata": {},
   "outputs": [
    {
     "name": "stdout",
     "output_type": "stream",
     "text": [
      "(1, 2, 3, 4, 5, 6)\n"
     ]
    }
   ],
   "source": [
    "#4 Convert a list to a tuple.\n",
    "\n",
    "#Assigning a list variable named ls\n",
    "\n",
    "ls = [1,2,3,4,5,6]\n",
    "\n",
    "#converting it into the tuple\n",
    "\n",
    "tup = tuple(ls)\n",
    "\n",
    "print(tup)"
   ]
  },
  {
   "cell_type": "code",
   "execution_count": 12,
   "id": "e59f3fa4-d74a-44a0-bcdf-c51e19cc9b73",
   "metadata": {},
   "outputs": [
    {
     "name": "stdout",
     "output_type": "stream",
     "text": [
      "['Mrinal', 23, 'Devnath']\n"
     ]
    }
   ],
   "source": [
    "# 5. Convert a tuple to a list.\n",
    "\n",
    "#Assigning a tuple variable into a list\n",
    "\n",
    "tupl = (\"Mrinal\", 23, \"Devnath\")\n",
    "\n",
    "#converting it into the tuple\n",
    "\n",
    "lst = list(tupl)\n",
    "\n",
    "print(lst)"
   ]
  },
  {
   "cell_type": "code",
   "execution_count": 22,
   "id": "90af67a7-7798-4d70-9c27-613d556fbaed",
   "metadata": {},
   "outputs": [
    {
     "name": "stdout",
     "output_type": "stream",
     "text": [
      "10110\n"
     ]
    }
   ],
   "source": [
    "# 6.Convert a decimal number to binary.\n",
    "\n",
    "dec = 22.22\n",
    "\n",
    "toint = int(dec)\n",
    "\n",
    "bina = bin(toint)[2:]\n",
    "\n",
    "print(bina)"
   ]
  },
  {
   "cell_type": "code",
   "execution_count": 27,
   "id": "1c305e6b-7135-41a9-979c-62adea0119d3",
   "metadata": {},
   "outputs": [
    {
     "name": "stdin",
     "output_type": "stream",
     "text": [
      "Enter a number:  -9\n"
     ]
    },
    {
     "name": "stdout",
     "output_type": "stream",
     "text": [
      "True\n"
     ]
    }
   ],
   "source": [
    "# 7. Convert a non-zero number to boolean.\n",
    "\n",
    "#Creating a user input for the taking numbers as an input\n",
    "\n",
    "inp = int(input(\"Enter a number: \"))\n",
    "\n",
    "#Converting the inp to the bool if it is equal to zero it returns False else True\n",
    "b = bool(inp)\n",
    "print(b)"
   ]
  }
 ],
 "metadata": {
  "kernelspec": {
   "display_name": "Python 3 (ipykernel)",
   "language": "python",
   "name": "python3"
  },
  "language_info": {
   "codemirror_mode": {
    "name": "ipython",
    "version": 3
   },
   "file_extension": ".py",
   "mimetype": "text/x-python",
   "name": "python",
   "nbconvert_exporter": "python",
   "pygments_lexer": "ipython3",
   "version": "3.10.8"
  }
 },
 "nbformat": 4,
 "nbformat_minor": 5
}
